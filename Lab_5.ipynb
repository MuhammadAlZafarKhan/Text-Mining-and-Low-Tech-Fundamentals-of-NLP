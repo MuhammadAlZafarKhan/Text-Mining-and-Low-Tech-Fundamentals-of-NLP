{
  "nbformat": 4,
  "nbformat_minor": 0,
  "metadata": {
    "colab": {
      "provenance": []
    },
    "kernelspec": {
      "name": "python3",
      "display_name": "Python 3"
    },
    "language_info": {
      "name": "python"
    }
  },
  "cells": [
    {
      "cell_type": "markdown",
      "source": [
        "# ***Lab 5: Applied Low-Tech NLP***"
      ],
      "metadata": {
        "id": "rZe7kOE5wXlj"
      }
    },
    {
      "cell_type": "markdown",
      "source": [
        "# **Exercise 1:** Lecxicons"
      ],
      "metadata": {
        "id": "KWdzYoZgwfUH"
      }
    },
    {
      "cell_type": "code",
      "execution_count": 1,
      "metadata": {
        "colab": {
          "base_uri": "https://localhost:8080/"
        },
        "id": "2YI1OLwPwUCt",
        "outputId": "bf75f2dd-8f99-465d-e3c2-532095797f74"
      },
      "outputs": [
        {
          "output_type": "stream",
          "name": "stdout",
          "text": [
            "Business Reviews Sentiment Analysis:\n",
            "\n",
            "Review: The product quality is excellent and delivery was fast.\n",
            " → Sentiment Score: 3, Classification: Positive\n",
            "\n",
            "Review: Customer support was not helpful at all.\n",
            " → Sentiment Score: -2, Classification: Negative\n",
            "\n",
            "Review: The price is okay, but the service is very slow.\n",
            " → Sentiment Score: 0, Classification: Neutral\n",
            "\n",
            "Review: Absolutely love the product! Great value for money.\n",
            " → Sentiment Score: 7, Classification: Positive\n",
            "\n",
            "Review: Terrible experience, I will never buy again.\n",
            " → Sentiment Score: -3, Classification: Negative\n",
            "\n"
          ]
        }
      ],
      "source": [
        "# -----------------------------\n",
        "# Lexicon-Based Sentiment Analysis in Business Reviews\n",
        "# -----------------------------\n",
        "\n",
        "# Sample business reviews (e.g., from an e-commerce store)\n",
        "reviews = [\n",
        "    \"The product quality is excellent and delivery was fast.\",\n",
        "    \"Customer support was not helpful at all.\",\n",
        "    \"The price is okay, but the service is very slow.\",\n",
        "    \"Absolutely love the product! Great value for money.\",\n",
        "    \"Terrible experience, I will never buy again.\"\n",
        "]\n",
        "\n",
        "# 1. Define a simple sentiment lexicon\n",
        "sentiment_lexicon = {\n",
        "    \"excellent\": 3, \"fast\": 2, \"helpful\": 2, \"okay\": 1, \"slow\": -2,\n",
        "    \"love\": 3, \"great\": 2, \"value\": 2, \"terrible\": -3, \"never\": -2,\n",
        "    \"bad\": -2, \"good\": 2, \"happy\": 2, \"poor\": -2, \"amazing\": 3\n",
        "}\n",
        "\n",
        "negation_words = {\"not\", \"never\", \"no\", \"none\", \"nobody\"}\n",
        "\n",
        "# 2. Function to calculate sentiment score\n",
        "def lexicon_sentiment_analysis(text, lexicon):\n",
        "    words = text.lower().split()\n",
        "    score = 0\n",
        "    negate = False\n",
        "\n",
        "    for word in words:\n",
        "        if word in negation_words:\n",
        "            negate = True\n",
        "            continue\n",
        "\n",
        "        if word in lexicon:\n",
        "            word_score = lexicon[word]\n",
        "            if negate:\n",
        "                word_score *= -1\n",
        "                negate = False\n",
        "            score += word_score\n",
        "\n",
        "    # Sentiment classification\n",
        "    if score > 1:\n",
        "        sentiment = \"Positive\"\n",
        "    elif score < -1:\n",
        "        sentiment = \"Negative\"\n",
        "    else:\n",
        "        sentiment = \"Neutral\"\n",
        "\n",
        "    return score, sentiment\n",
        "\n",
        "# 3. Apply analysis to business reviews\n",
        "print(\"Business Reviews Sentiment Analysis:\\n\")\n",
        "for review in reviews:\n",
        "    score, sentiment = lexicon_sentiment_analysis(review, sentiment_lexicon)\n",
        "    print(f\"Review: {review}\")\n",
        "    print(f\" → Sentiment Score: {score}, Classification: {sentiment}\\n\")"
      ]
    },
    {
      "cell_type": "markdown",
      "source": [
        "# **Exercise 2:** Bag of Words (BoW)"
      ],
      "metadata": {
        "id": "00Dy18sO89V9"
      }
    },
    {
      "cell_type": "code",
      "source": [
        "# -----------------------------\n",
        "# Bag of Words in NLP (Business Example)\n",
        "# -----------------------------\n",
        "\n",
        "from sklearn.feature_extraction.text import CountVectorizer\n",
        "import pandas as pd\n",
        "\n",
        "# Sample business reviews (e.g., from an online store)\n",
        "reviews = [\n",
        "    \"The product quality is excellent\",\n",
        "    \"Delivery was fast and service was great\",\n",
        "    \"Customer support was not helpful\",\n",
        "    \"The price is reasonable and quality is good\",\n",
        "    \"Terrible product, I will never buy again\"\n",
        "]\n",
        "\n",
        "# 1. Initialize CountVectorizer\n",
        "vectorizer = CountVectorizer()\n",
        "\n",
        "# 2. Fit and transform the reviews into Bag of Words\n",
        "X = vectorizer.fit_transform(reviews)\n",
        "\n",
        "# 3. Convert to DataFrame for readability\n",
        "bow_df = pd.DataFrame(X.toarray(), columns=vectorizer.get_feature_names_out())\n",
        "\n",
        "# Show results\n",
        "print(\"Bag of Words Representation:\\n\")\n",
        "print(bow_df)\n"
      ],
      "metadata": {
        "colab": {
          "base_uri": "https://localhost:8080/"
        },
        "id": "mNsqvJeW85zi",
        "outputId": "8c079632-ad9b-415d-82fb-23ede20df30a"
      },
      "execution_count": 2,
      "outputs": [
        {
          "output_type": "stream",
          "name": "stdout",
          "text": [
            "Bag of Words Representation:\n",
            "\n",
            "   again  and  buy  customer  delivery  excellent  fast  good  great  helpful  \\\n",
            "0      0    0    0         0         0          1     0     0      0        0   \n",
            "1      0    1    0         0         1          0     1     0      1        0   \n",
            "2      0    0    0         1         0          0     0     0      0        1   \n",
            "3      0    1    0         0         0          0     0     1      0        0   \n",
            "4      1    0    1         0         0          0     0     0      0        0   \n",
            "\n",
            "   ...  price  product  quality  reasonable  service  support  terrible  the  \\\n",
            "0  ...      0        1        1           0        0        0         0    1   \n",
            "1  ...      0        0        0           0        1        0         0    0   \n",
            "2  ...      0        0        0           0        0        1         0    0   \n",
            "3  ...      1        0        1           1        0        0         0    1   \n",
            "4  ...      0        1        0           0        0        0         1    0   \n",
            "\n",
            "   was  will  \n",
            "0    0     0  \n",
            "1    2     0  \n",
            "2    1     0  \n",
            "3    0     0  \n",
            "4    0     1  \n",
            "\n",
            "[5 rows x 23 columns]\n"
          ]
        }
      ]
    },
    {
      "cell_type": "markdown",
      "source": [
        "## **Exercise 3:** Cosine Similarity"
      ],
      "metadata": {
        "id": "-aIU2MoR9XFH"
      }
    },
    {
      "cell_type": "code",
      "source": [
        "from sklearn.feature_extraction.text import CountVectorizer\n",
        "from sklearn.metrics.pairwise import cosine_similarity\n",
        "import pandas as pd\n",
        "\n",
        "# Example customer reviews (real-world business context)\n",
        "documents = [\n",
        "    \"The product quality is excellent and delivery was fast\",\n",
        "    \"Fast delivery and excellent customer service\",\n",
        "    \"The product was okay but the delivery was late\",\n",
        "    \"Customer service was poor and the product quality was bad\"\n",
        "]\n",
        "\n",
        "# Step 1: Convert text into Bag of Words vectors\n",
        "vectorizer = CountVectorizer()\n",
        "X = vectorizer.fit_transform(documents)\n",
        "\n",
        "# Step 2: Compute cosine similarity matrix\n",
        "cosine_sim_matrix = cosine_similarity(X, X)\n",
        "\n",
        "# Step 3: Display results in table format\n",
        "df_similarity = pd.DataFrame(cosine_sim_matrix,\n",
        "                             index=[f\"Doc{i+1}\" for i in range(len(documents))],\n",
        "                             columns=[f\"Doc{i+1}\" for i in range(len(documents))])\n",
        "\n",
        "print(\"Cosine Similarity Matrix:\")\n",
        "print(df_similarity.round(2))"
      ],
      "metadata": {
        "colab": {
          "base_uri": "https://localhost:8080/"
        },
        "id": "uzYcSKCM9gpR",
        "outputId": "8ef65c05-1367-4474-84e6-3e8efd97fa77"
      },
      "execution_count": 3,
      "outputs": [
        {
          "output_type": "stream",
          "name": "stdout",
          "text": [
            "Cosine Similarity Matrix:\n",
            "      Doc1  Doc2  Doc3  Doc4\n",
            "Doc1  1.00  0.54  0.55  0.58\n",
            "Doc2  0.54  1.00  0.11  0.35\n",
            "Doc3  0.55  0.11  1.00  0.56\n",
            "Doc4  0.58  0.35  0.56  1.00\n"
          ]
        }
      ]
    },
    {
      "cell_type": "markdown",
      "source": [
        "## **Exercise 4:** TF-IDF"
      ],
      "metadata": {
        "id": "3Kd_828X90wm"
      }
    },
    {
      "cell_type": "code",
      "source": [
        "from sklearn.feature_extraction.text import TfidfVectorizer\n",
        "import pandas as pd\n",
        "\n",
        "# Example real-world business scenario: customer reviews\n",
        "documents = [\n",
        "    \"The product quality is excellent and delivery was fast\",\n",
        "    \"Fast delivery and excellent customer service\",\n",
        "    \"The product was okay but the delivery was late\",\n",
        "    \"Customer service was poor and the product quality was bad\"\n",
        "]\n",
        "\n",
        "# Step 1: Initialize TF-IDF Vectorizer\n",
        "vectorizer = TfidfVectorizer()\n",
        "\n",
        "# Step 2: Fit and transform documents\n",
        "X = vectorizer.fit_transform(documents)\n",
        "\n",
        "# Step 3: Convert to DataFrame\n",
        "df_tfidf = pd.DataFrame(X.toarray(),\n",
        "                        columns=vectorizer.get_feature_names_out(),\n",
        "                        index=[f\"Doc{i+1}\" for i in range(len(documents))])\n",
        "\n",
        "print(\"TF-IDF Matrix:\")\n",
        "print(df_tfidf.round(3))"
      ],
      "metadata": {
        "colab": {
          "base_uri": "https://localhost:8080/"
        },
        "id": "J40P15bB9voZ",
        "outputId": "1b289b16-61d8-4748-f323-1e0cd4781891"
      },
      "execution_count": 4,
      "outputs": [
        {
          "output_type": "stream",
          "name": "stdout",
          "text": [
            "TF-IDF Matrix:\n",
            "        and    bad    but  customer  delivery  excellent   fast     is   late  \\\n",
            "Doc1  0.288  0.000  0.000     0.000     0.288      0.356  0.356  0.452  0.000   \n",
            "Doc2  0.351  0.000  0.000     0.434     0.351      0.434  0.434  0.000  0.000   \n",
            "Doc3  0.000  0.000  0.376     0.000     0.240      0.000  0.000  0.000  0.376   \n",
            "Doc4  0.246  0.386  0.000     0.304     0.000      0.000  0.000  0.000  0.000   \n",
            "\n",
            "       okay   poor  product  quality  service    the    was  \n",
            "Doc1  0.000  0.000    0.288    0.356    0.000  0.288  0.288  \n",
            "Doc2  0.000  0.000    0.000    0.000    0.434  0.000  0.000  \n",
            "Doc3  0.376  0.000    0.240    0.000    0.000  0.480  0.480  \n",
            "Doc4  0.000  0.386    0.246    0.304    0.304  0.246  0.493  \n"
          ]
        }
      ]
    },
    {
      "cell_type": "code",
      "source": [],
      "metadata": {
        "id": "yGUTf2or-CVq"
      },
      "execution_count": null,
      "outputs": []
    }
  ]
}